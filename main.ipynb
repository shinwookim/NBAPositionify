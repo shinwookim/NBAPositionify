{
 "cells": [
  {
   "cell_type": "markdown",
   "id": "2618f4df-e66e-47a7-bb60-ac545e7725f3",
   "metadata": {},
   "source": [
    "# NBAPositionify: Leveraging Data Mining Techniques to Classify Professional Basketball Players into Positions"
   ]
  },
  {
   "cell_type": "code",
   "execution_count": null,
   "id": "2994b884-ed1b-4ae9-9809-22990f092722",
   "metadata": {
    "scrolled": true
   },
   "outputs": [],
   "source": [
    "# Import Packages\n",
    "import pandas as pd\n",
    "import numpy as np\n",
    "import matplotlib.pyplot as plt"
   ]
  },
  {
   "cell_type": "code",
   "execution_count": null,
   "id": "32f3c63f-7b74-4e22-a772-67bd728e426c",
   "metadata": {},
   "outputs": [],
   "source": [
    "## Get Dataset from Kaggle\n",
    "# Requires the kaggle package to download dataset. Uncomment the line below to install\n",
    "# !pip3 install kaggle\n",
    "import kaggle\n",
    "# Requires kaggle.json (Kaggle API Key) placed in ~/.kaggle\n",
    "kaggle.api.authenticate()\n",
    "kaggle.api.dataset_download_files(\"drgilermo/nba-players-stats\", path=\"./data/\", unzip=True)"
   ]
  },
  {
   "cell_type": "markdown",
   "id": "95062237-00c3-45aa-96a1-b5d6d6fb0053",
   "metadata": {},
   "source": [
    "## Exploratory Data Analysis"
   ]
  },
  {
   "cell_type": "markdown",
   "id": "3ba267cb",
   "metadata": {},
   "source": [
    "Our data is from `basketball-reference.com`. Three datasets:"
   ]
  },
  {
   "cell_type": "code",
   "execution_count": null,
   "id": "eea2bc50-1ccd-4c7f-a094-dbab495e6d7b",
   "metadata": {},
   "outputs": [],
   "source": [
    "player_data = pd.read_csv(\"./data/player_data.csv\")\n",
    "player_data.head(1)\n"
   ]
  },
  {
   "cell_type": "code",
   "execution_count": null,
   "id": "58625cdf",
   "metadata": {},
   "outputs": [],
   "source": [
    "players = pd.read_csv(\"./data/Players.csv\")\n",
    "players.head(1)"
   ]
  },
  {
   "cell_type": "code",
   "execution_count": null,
   "id": "85e0a760-f410-4519-ae64-7bbc5fb4f297",
   "metadata": {},
   "outputs": [],
   "source": [
    "plt.bar(player_data.groupby('position').size().index, player_data.groupby('position').size().values)\n",
    "plt.xlabel('Position')\n",
    "plt.ylabel('Count')\n",
    "plt.title('Counts for each position')\n",
    "plt.show()"
   ]
  },
  {
   "cell_type": "code",
   "execution_count": null,
   "id": "58f9ac38-7135-45d9-b0ac-48b28f3a0015",
   "metadata": {},
   "outputs": [],
   "source": [
    "plt.bar(player_data.groupby('year_start').size().index, player_data.groupby('year_start').size().values)\n",
    "plt.xlabel('Start Year')\n",
    "plt.ylabel('Count')\n",
    "plt.title('Counts for Start Year')\n",
    "plt.show()\n",
    "\n",
    "plt.bar(player_data.groupby('year_start').size().index, player_data.groupby('year_start').size().values)\n",
    "plt.xlabel('End Year')\n",
    "plt.ylabel('Count')\n",
    "plt.title('Counts for End Year')\n",
    "plt.show()"
   ]
  },
  {
   "cell_type": "code",
   "execution_count": null,
   "id": "c594384c",
   "metadata": {},
   "outputs": [],
   "source": [
    "stats = pd.read_csv(\"./data/Seasons_Stats.csv\")\n",
    "stats = stats.rename(columns={\"Unnamed: 0\" : \"Index\"})\n",
    "stats.drop(['blanl', 'blank2'], axis=1, inplace=True)\n",
    "for index, row in stats.iterrows():\n",
    "    if not pd.isna(row[\"Pos\"]):\n",
    "        positions = row[\"Pos\"].split(\"-\")\n",
    "        # print(positions)\n",
    "        stats.at[index, \"Pos\"] = positions[0]\n",
    "        for i in range(1, len(positions)):\n",
    "            position = positions[i]\n",
    "            new_row = stats.iloc[index].copy()\n",
    "            new_row[\"Pos\"] = position\n",
    "            stats.loc[len(stats)] = new_row\n",
    "print(stats.shape)\n",
    "print(stats.dropna().head())\n",
    "print(stats.dropna().shape)\n",
    "stats.to_csv(\"season_stats_separated_pos.csv\")"
   ]
  },
  {
   "cell_type": "markdown",
   "id": "3fb916ea",
   "metadata": {},
   "source": [
    "# Unsupervised Naive K-Means Clustering (Points, Rebounds, Assists, Steals, Blocks)\n",
    "\n",
    "As part of our exploratory data analysis, we did a round of naive k-means clustering, taking into account 5 stat columns which are subjectively \"most relevant\" to player performance and player type: points, rebounds, assists, steals and blocks. We used 5 clusters in the hopes of seeing each cluster group associated with a different position. The results yielded clusters which had datapoints evenly distributed between the 5 position classes. We hypothesized that a reason for this could be a lack of data preprocessing - some players had more stats than others, so they would be grouped in a similar class, regardless of which stats stood out. To that end, we decided to try multiple types of preprocessing on these columns - division by the number of minutes played, and normalization."
   ]
  },
  {
   "cell_type": "code",
   "execution_count": null,
   "id": "c1be7ab6",
   "metadata": {},
   "outputs": [],
   "source": [
    "from sklearn.cluster import KMeans\n",
    "\n",
    "unsupervised_kmeans_stats = stats[[\"PTS\", \"ORB\", \"DRB\", \"AST\", \"STL\", \"BLK\"]].dropna()\n",
    "\n",
    "unsupervised_kmeans_stats_1 = unsupervised_kmeans_stats.copy()\n",
    "kmeans = KMeans(n_clusters=5)\n",
    "kmeans.fit(unsupervised_kmeans_stats_1)\n",
    "\n",
    "unsupervised_kmeans_stats_1[\"cluster\"] = kmeans.labels_\n",
    "unsupervised_kmeans_stats_1.insert(0, \"Pos\", stats[\"Pos\"])\n",
    "unsupervised_kmeans_stats_1.head()"
   ]
  },
  {
   "cell_type": "code",
   "execution_count": null,
   "id": "2b7e6e87",
   "metadata": {},
   "outputs": [],
   "source": [
    "for cluster in range(5):\n",
    "    cur_df = unsupervised_kmeans_stats_1.loc[unsupervised_kmeans_stats_1[\"cluster\"] == cluster]\n",
    "    plt.bar(cur_df.groupby('Pos').size().index, cur_df.groupby('Pos').size().values)\n",
    "    plt.xlabel('Position')\n",
    "    plt.ylabel('Count')\n",
    "    plt.title(f'Counts for each position in cluster {cluster}')\n",
    "    plt.show()\n",
    "\n",
    "    position_percentages = (cur_df['Pos'].value_counts() / len(cur_df)).sort_values(ascending=False)\n",
    "    plt.pie(cur_df['Pos'].value_counts())\n",
    "    plt.title(f\"Distribution of players by position in cluster {cluster}\")\n",
    "    plt.axis(\"equal\")\n",
    "    legend_labels = [f\"{position}: {round(percentage, 3)}%\" for position, percentage in zip(position_percentages.index, position_percentages.values)]\n",
    "    plt.legend(legend_labels, loc=\"best\")\n",
    "    plt.show()"
   ]
  },
  {
   "cell_type": "markdown",
   "id": "2f400564",
   "metadata": {},
   "source": [
    "### Normalization"
   ]
  },
  {
   "cell_type": "code",
   "execution_count": null,
   "id": "2146a662",
   "metadata": {},
   "outputs": [],
   "source": [
    "# Normalization\n",
    "unsupervised_kmeans_stats_2 = (unsupervised_kmeans_stats-unsupervised_kmeans_stats.mean())/unsupervised_kmeans_stats.std()\n",
    "\n",
    "kmeans = KMeans(n_clusters=5)\n",
    "kmeans.fit(unsupervised_kmeans_stats_2)\n",
    "\n",
    "unsupervised_kmeans_stats_2[\"cluster\"] = kmeans.labels_\n",
    "unsupervised_kmeans_stats_2.insert(0, \"Pos\", stats[\"Pos\"])\n",
    "unsupervised_kmeans_stats_2.head()"
   ]
  },
  {
   "cell_type": "code",
   "execution_count": null,
   "id": "27ae4654",
   "metadata": {},
   "outputs": [],
   "source": [
    "for cluster in range(5):\n",
    "    cur_df = unsupervised_kmeans_stats_2.loc[unsupervised_kmeans_stats_2[\"cluster\"] == cluster]\n",
    "    plt.bar(cur_df.groupby('Pos').size().index, cur_df.groupby('Pos').size().values)\n",
    "    plt.xlabel('Position')\n",
    "    plt.ylabel('Count')\n",
    "    plt.title(f'Counts for each position in cluster {cluster}')\n",
    "    plt.show()\n",
    "\n",
    "    position_percentages = (cur_df['Pos'].value_counts() / len(cur_df)).sort_values(ascending=False)\n",
    "    plt.pie(cur_df['Pos'].value_counts())\n",
    "    plt.title(f\"Distribution of players by position in cluster {cluster}\")\n",
    "    plt.axis(\"equal\")\n",
    "    legend_labels = [f\"{position}: {round(percentage, 3)}%\" for position, percentage in zip(position_percentages.index, position_percentages.values)]\n",
    "    plt.legend(legend_labels, loc=\"best\")\n",
    "    plt.show()"
   ]
  },
  {
   "cell_type": "markdown",
   "id": "08752baa",
   "metadata": {},
   "source": [
    "### Division by Number of Minutes"
   ]
  },
  {
   "cell_type": "code",
   "execution_count": null,
   "id": "c4a17ab4",
   "metadata": {},
   "outputs": [],
   "source": [
    "# TODO: Division by number of minutes\n",
    "unsupervised_kmeans_stats_3 = unsupervised_kmeans_stats.copy()\n",
    "unsupervised_kmeans_stats_3.insert(0, \"MIN\", stats[\"MP\"])\n",
    "unsupervised_kmeans_stats_3[[\"PTS\", \"ORB\", \"DRB\", \"AST\", \"STL\", \"BLK\"]] = (\n",
    "    unsupervised_kmeans_stats_3[[\"PTS\", \"ORB\", \"DRB\", \"AST\", \"STL\", \"BLK\"]].div(unsupervised_kmeans_stats_3[\"MIN\"], axis=0)\n",
    ")\n",
    "unsupervised_kmeans_stats_3 = unsupervised_kmeans_stats_3.drop(\"MIN\", axis=1).dropna()\n",
    "\n",
    "kmeans = KMeans(n_clusters=5)\n",
    "kmeans.fit(unsupervised_kmeans_stats_3)\n",
    "\n",
    "unsupervised_kmeans_stats_3[\"cluster\"] = kmeans.labels_\n",
    "unsupervised_kmeans_stats_3.insert(0, \"Pos\", stats[\"Pos\"])\n",
    "unsupervised_kmeans_stats_3.head()"
   ]
  },
  {
   "cell_type": "code",
   "execution_count": null,
   "id": "976e83f0",
   "metadata": {},
   "outputs": [],
   "source": [
    "for cluster in range(5):\n",
    "    cur_df = unsupervised_kmeans_stats_3.loc[unsupervised_kmeans_stats_3[\"cluster\"] == cluster]\n",
    "    plt.bar(cur_df.groupby('Pos').size().index, cur_df.groupby('Pos').size().values)\n",
    "    plt.xlabel('Position')\n",
    "    plt.ylabel('Count')\n",
    "    plt.title(f'Counts for each position in cluster {cluster}')\n",
    "    plt.show()\n",
    "\n",
    "    position_percentages = (cur_df['Pos'].value_counts() / len(cur_df)).sort_values(ascending=False)\n",
    "    plt.pie(cur_df['Pos'].value_counts())\n",
    "    plt.title(f\"Distribution of players by position in cluster {cluster}\")\n",
    "    plt.axis(\"equal\")\n",
    "    legend_labels = [f\"{position}: {round(percentage, 3)}%\" for position, percentage in zip(position_percentages.index, position_percentages.values)]\n",
    "    plt.legend(legend_labels, loc=\"best\")\n",
    "    plt.show()"
   ]
  },
  {
   "cell_type": "code",
   "execution_count": null,
   "id": "a364b762",
   "metadata": {},
   "outputs": [],
   "source": [
    "for column in stats:\n",
    "    print(column)"
   ]
  },
  {
   "cell_type": "markdown",
   "id": "1f55400d",
   "metadata": {},
   "source": [
    "# Agglomerative Clustering"
   ]
  },
  {
   "cell_type": "code",
   "execution_count": null,
   "id": "2db6d69a",
   "metadata": {},
   "outputs": [],
   "source": [
    "from sklearn.cluster import AgglomerativeClustering\n",
    "\n",
    "agglomerative_stats = stats[[\"PTS\", \"ORB\", \"DRB\", \"AST\", \"STL\", \"BLK\"]].dropna()\n",
    "\n",
    "agglomerative_stats_1 = agglomerative_stats.copy()\n",
    "agglomerative_clustering = AgglomerativeClustering(n_clusters=5)\n",
    "agglomerative_clustering.fit(agglomerative_stats_1)\n",
    "\n",
    "agglomerative_stats_1[\"cluster\"] = agglomerative_clustering.labels_\n",
    "agglomerative_stats_1.insert(0, \"Pos\", stats[\"Pos\"])\n",
    "agglomerative_stats_1.head()"
   ]
  },
  {
   "cell_type": "code",
   "execution_count": null,
   "id": "ea28f4d1",
   "metadata": {},
   "outputs": [],
   "source": [
    "for cluster in range(5):\n",
    "    cur_df = agglomerative_stats_1.loc[agglomerative_stats_1[\"cluster\"] == cluster]\n",
    "    plt.bar(cur_df.groupby('Pos').size().index, cur_df.groupby('Pos').size().values)\n",
    "    plt.xlabel('Position')\n",
    "    plt.ylabel('Count')\n",
    "    plt.title(f'Counts for each position in cluster {cluster}')\n",
    "    plt.show()\n",
    "\n",
    "    position_percentages = (cur_df['Pos'].value_counts() / len(cur_df)).sort_values(ascending=False)\n",
    "    plt.pie(cur_df['Pos'].value_counts())\n",
    "    plt.title(f\"Distribution of players by position in cluster {cluster}\")\n",
    "    plt.axis(\"equal\")\n",
    "    legend_labels = [f\"{position}: {round(percentage, 3)}%\" for position, percentage in zip(position_percentages.index, position_percentages.values)]\n",
    "    plt.legend(legend_labels, loc=\"best\")\n",
    "    plt.show()"
   ]
  },
  {
   "cell_type": "markdown",
   "id": "9c6077e4",
   "metadata": {},
   "source": [
    "### Normalization"
   ]
  },
  {
   "cell_type": "code",
   "execution_count": null,
   "id": "d0b4115e",
   "metadata": {},
   "outputs": [],
   "source": [
    "# Normalization\n",
    "agglomerative_stats_2 = (agglomerative_stats-agglomerative_stats.mean())/agglomerative_stats.std()\n",
    "\n",
    "agglomerative_clustering = AgglomerativeClustering(n_clusters=5)\n",
    "agglomerative_clustering.fit(agglomerative_stats_2)\n",
    "\n",
    "agglomerative_stats_2[\"cluster\"] = agglomerative_clustering.labels_\n",
    "agglomerative_stats_2.insert(0, \"Pos\", stats[\"Pos\"])\n",
    "agglomerative_stats_2.head()"
   ]
  },
  {
   "cell_type": "code",
   "execution_count": null,
   "id": "a8fccca7",
   "metadata": {},
   "outputs": [],
   "source": [
    "for cluster in range(5):\n",
    "    cur_df = agglomerative_stats_2.loc[agglomerative_stats_2[\"cluster\"] == cluster]\n",
    "    plt.bar(cur_df.groupby('Pos').size().index, cur_df.groupby('Pos').size().values)\n",
    "    plt.xlabel('Position')\n",
    "    plt.ylabel('Count')\n",
    "    plt.title(f'Counts for each position in cluster {cluster}')\n",
    "    plt.show()\n",
    "\n",
    "    position_percentages = (cur_df['Pos'].value_counts() / len(cur_df)).sort_values(ascending=False)\n",
    "    plt.pie(cur_df['Pos'].value_counts())\n",
    "    plt.title(f\"Distribution of players by position in cluster {cluster}\")\n",
    "    plt.axis(\"equal\")\n",
    "    legend_labels = [f\"{position}: {round(percentage, 3)}%\" for position, percentage in zip(position_percentages.index, position_percentages.values)]\n",
    "    plt.legend(legend_labels, loc=\"best\")\n",
    "    plt.show()"
   ]
  },
  {
   "cell_type": "markdown",
   "id": "1ffd7f25",
   "metadata": {},
   "source": [
    "### Normalization with 3 Clusters"
   ]
  },
  {
   "cell_type": "code",
   "execution_count": null,
   "id": "b496fa4c",
   "metadata": {},
   "outputs": [],
   "source": [
    "# Normalization\n",
    "agglomerative_stats_3 = (agglomerative_stats-agglomerative_stats.mean())/agglomerative_stats.std()\n",
    "\n",
    "agglomerative_clustering = AgglomerativeClustering(n_clusters=3)\n",
    "agglomerative_clustering.fit(agglomerative_stats_3)\n",
    "\n",
    "agglomerative_stats_3[\"cluster\"] = agglomerative_clustering.labels_\n",
    "agglomerative_stats_3.insert(0, \"Pos\", stats[\"Pos\"])\n",
    "agglomerative_stats_3.head()"
   ]
  },
  {
   "cell_type": "code",
   "execution_count": null,
   "id": "e821f276",
   "metadata": {},
   "outputs": [],
   "source": [
    "for cluster in range(3):\n",
    "    cur_df = agglomerative_stats_3.loc[agglomerative_stats_3[\"cluster\"] == cluster]\n",
    "    plt.bar(cur_df.groupby('Pos').size().index, cur_df.groupby('Pos').size().values)\n",
    "    plt.xlabel('Position')\n",
    "    plt.ylabel('Count')\n",
    "    plt.title(f'Counts for each position in cluster {cluster}')\n",
    "    plt.show()\n",
    "\n",
    "    position_percentages = (cur_df['Pos'].value_counts() / len(cur_df)).sort_values(ascending=False)\n",
    "    plt.pie(cur_df['Pos'].value_counts())\n",
    "    plt.title(f\"Distribution of players by position in cluster {cluster}\")\n",
    "    plt.axis(\"equal\")\n",
    "    legend_labels = [f\"{position}: {round(percentage, 3)}%\" for position, percentage in zip(position_percentages.index, position_percentages.values)]\n",
    "    plt.legend(legend_labels, loc=\"best\")\n",
    "    plt.show()"
   ]
  },
  {
   "cell_type": "markdown",
   "id": "737984d0",
   "metadata": {},
   "source": [
    "# Outlier Analysis - From Clustering\n",
    "\n",
    "Visual observation of the counts from clusters 1 and 2 shows that cluster 1 contains mostly backcourt players - those playing center or power forward. Similarly, cluster 2 conatins mostly frontcourt players - those playing point guard and shooting guard. As a result, we'll inspect the player info of the rows in those clusters which do not fit within those groups and therefore can be classified as \"outliers\" in a sense."
   ]
  },
  {
   "cell_type": "code",
   "execution_count": null,
   "id": "fb277dd0",
   "metadata": {},
   "outputs": [],
   "source": [
    "cluster_1 = agglomerative_stats_3.loc[agglomerative_stats_3[\"cluster\"] == 1]\n",
    "cluster_1.head()\n",
    "cluster_1_pg_outliers = cluster_1.loc[cluster_1[\"Pos\"] == \"PG\"]\n",
    "cluster_1_sg_outliers = cluster_1.loc[cluster_1[\"Pos\"] == \"SG\"]\n",
    "cluster_1_outliers = pd.concat([cluster_1_pg_outliers, cluster_1_sg_outliers], axis=0)\n",
    "stats.loc[cluster_1_outliers.index.values]"
   ]
  },
  {
   "cell_type": "code",
   "execution_count": null,
   "id": "795b8472",
   "metadata": {},
   "outputs": [],
   "source": [
    "cluster_2 = agglomerative_stats_3.loc[agglomerative_stats_3[\"cluster\"] == 2]\n",
    "cluster_2.head()\n",
    "cluster_2_pf_outliers = cluster_2.loc[cluster_2[\"Pos\"] == \"PF\"]\n",
    "cluster_2_c_outliers = cluster_2.loc[cluster_2[\"Pos\"] == \"C\"]\n",
    "cluster_2_outliers = pd.concat([cluster_2_pf_outliers, cluster_2_c_outliers], axis=0)\n",
    "stats.loc[cluster_2_outliers.index.values]"
   ]
  },
  {
   "cell_type": "markdown",
   "id": "c3d0ebcd",
   "metadata": {},
   "source": [
    "# Outlier Detection - iForest Approach\n",
    "\n",
    "_add description of iForest approach for outlier detection here_"
   ]
  },
  {
   "cell_type": "code",
   "execution_count": null,
   "id": "6cdc5516",
   "metadata": {},
   "outputs": [],
   "source": [
    "from sklearn.ensemble import IsolationForest\n",
    "\n",
    "def iForest(data, n_estimators=100, outlier_fraction='auto'):\n",
    "    isolation_forest = IsolationForest(n_estimators=n_estimators, contamination=outlier_fraction)\n",
    "    # Fit the model to the data\n",
    "    isolation_forest.fit(data)\n",
    "    # Use the model to predict the outliers\n",
    "    outliers = isolation_forest.predict(data) == -1\n",
    "    # Extract the rows with outliers\n",
    "    outliers_only = data[outliers]\n",
    "    # Extract the rows without outliers\n",
    "    no_outliers =data[~outliers]\n",
    "    return outliers_only, no_outliers\n",
    "\n",
    "for cluster in range(3):\n",
    "    cur_df = agglomerative_stats_3.loc[agglomerative_stats_3[\"cluster\"] == cluster]\n",
    "    # print(cur_df[[\"PTS\", \"ORB\", \"DRB\", \"AST\", \"STL\", \"BLK\"]].head())\n",
    "    outliers = iForest(cur_df[[\"PTS\", \"ORB\", \"DRB\", \"AST\", \"STL\", \"BLK\"]])\n",
    "    print(outliers)"
   ]
  }
 ],
 "metadata": {
  "kernelspec": {
   "display_name": "Python 3 (ipykernel)",
   "language": "python",
   "name": "python3"
  },
  "language_info": {
   "codemirror_mode": {
    "name": "ipython",
    "version": 3
   },
   "file_extension": ".py",
   "mimetype": "text/x-python",
   "name": "python",
   "nbconvert_exporter": "python",
   "pygments_lexer": "ipython3",
   "version": "3.11.7"
  }
 },
 "nbformat": 4,
 "nbformat_minor": 5
}
