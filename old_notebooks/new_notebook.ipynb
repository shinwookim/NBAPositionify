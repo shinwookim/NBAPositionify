{
 "cells": [
  {
   "cell_type": "code",
   "execution_count": null,
   "metadata": {},
   "outputs": [],
   "source": [
    "# Import Packages\n",
    "import pandas as pd\n",
    "import numpy as np\n",
    "import matplotlib.pyplot as plt\n",
    "## Get Dataset from Kaggle\n",
    "# Requires the kaggle package to download dataset. Uncomment the line below to install\n",
    "# !pip3 install kaggle\n",
    "import kaggle\n",
    "# Requires kaggle.json (Kaggle API Key) placed in ~/.kaggle\n",
    "kaggle.api.authenticate()\n",
    "kaggle.api.dataset_download_files(\"drgilermo/nba-players-stats\", path=\"./data/\", unzip=True)\n",
    "player_data = pd.read_csv(\"./data/player_data.csv\")\n"
   ]
  },
  {
   "cell_type": "code",
   "execution_count": null,
   "metadata": {},
   "outputs": [],
   "source": [
    "# seasons_stats.dropna(how='all',axis=0)\n",
    "seasons_stats = pd.read_csv(\"./data/Seasons_Stats.csv\")\n",
    "seasons_stats.drop(['Unnamed: 0', 'blanl', 'blank2'], axis=1, inplace=True)\n",
    "seasons_stats.dropna(inplace=True)\n",
    "seasons_stats.drop(['Year', 'Player'], axis=1, inplace=True)\n",
    "seasons_stats"
   ]
  },
  {
   "cell_type": "code",
   "execution_count": null,
   "metadata": {},
   "outputs": [],
   "source": [
    "from sklearn.ensemble import RandomForestClassifier\n",
    "from sklearn.calibration import LabelEncoder\n",
    "from sklearn.model_selection import train_test_split\n",
    "from sklearn.metrics import accuracy_score"
   ]
  },
  {
   "cell_type": "code",
   "execution_count": null,
   "metadata": {},
   "outputs": [],
   "source": [
    "le = LabelEncoder()\n",
    "y = seasons_stats['Pos']\n",
    "y = le.fit_transform(y)\n",
    "X = seasons_stats.drop('Pos', axis=1)\n",
    "X['Tm'] = le.fit_transform(X['Tm'])"
   ]
  },
  {
   "cell_type": "code",
   "execution_count": null,
   "metadata": {},
   "outputs": [],
   "source": [
    "X_train, X_test, y_train, y_test = train_test_split(X, y, test_size=0.2, random_state=42)\n",
    "rf = RandomForestClassifier(n_estimators=100, random_state=42)\n",
    "rf.fit(X_train, y_train)"
   ]
  },
  {
   "cell_type": "code",
   "execution_count": null,
   "metadata": {},
   "outputs": [],
   "source": [
    "y_pred = rf.predict(X_test)\n",
    "accuracy = accuracy_score(y_test, y_pred)\n",
    "print(\"Accuracy:\", accuracy)"
   ]
  },
  {
   "cell_type": "code",
   "execution_count": null,
   "metadata": {},
   "outputs": [],
   "source": [
    "importances = rf.feature_importances_\n",
    "std = np.std([tree.feature_importances_ for tree in rf.estimators_], axis=0)\n",
    "forest_importances = pd.Series(importances, index=list(X.columns))\n",
    "fig, ax = plt.subplots()\n",
    "ax.set_title(\"Feature importances using MDI\")\n",
    "ax.set_ylabel(\"Mean decrease in impurity\")\n",
    "forest_importances.plot.bar(yerr=std, ax=ax)\n",
    "fig.tight_layout()"
   ]
  },
  {
   "cell_type": "code",
   "execution_count": null,
   "metadata": {},
   "outputs": [],
   "source": [
    "print(forest_importances.sort_values(ascending=False).head(5))"
   ]
  },
  {
   "cell_type": "code",
   "execution_count": null,
   "metadata": {},
   "outputs": [],
   "source": [
    "# seasons_stats.dropna(how='all',axis=0)\n",
    "seasons_stats = pd.read_csv(\"./data/Seasons_Stats.csv\")\n",
    "seasons_stats.drop(['Unnamed: 0', 'blanl', 'blank2'], axis=1, inplace=True)\n",
    "seasons_stats.dropna(inplace=True)\n",
    "seasons_stats.drop(['Year', 'Player'], axis=1, inplace=True)\n",
    "y = seasons_stats['Pos']\n",
    "y = le.fit_transform(y)\n",
    "X = seasons_stats[['AST%', 'TRB%', 'DRB%', 'ORB%', 'BLK%']]\n",
    "X_train, X_test, y_train, y_test = train_test_split(X, y, test_size=0.2, random_state=42)\n",
    "rf = RandomForestClassifier(n_estimators=100, random_state=1)\n",
    "rf.fit(X_train, y_train)\n",
    "y_pred = rf.predict(X_test)\n",
    "accuracy = accuracy_score(y_test, y_pred)\n",
    "print(\"Accuracy:\", accuracy)"
   ]
  },
  {
   "cell_type": "code",
   "execution_count": null,
   "metadata": {},
   "outputs": [],
   "source": [
    "from xgboost import XGBClassifier\n",
    "X_train, X_test, y_train, y_test = train_test_split(X, y, test_size=0.2, random_state=43)\n",
    "bst = XGBClassifier(n_estimators=2, max_depth=2, learning_rate=1, objective='multi:softmax')\n",
    "bst.fit(X_train, y_train)\n"
   ]
  },
  {
   "cell_type": "code",
   "execution_count": null,
   "metadata": {},
   "outputs": [],
   "source": [
    "preds = bst.predict(X_test)\n",
    "accuracy = accuracy_score(y_test, preds)\n",
    "print(\"Accuracy:\", accuracy)"
   ]
  },
  {
   "cell_type": "code",
   "execution_count": null,
   "metadata": {},
   "outputs": [],
   "source": [
    "# seasons_stats.dropna(how='all',axis=0)\n",
    "seasons_stats = pd.read_csv(\"./data/Seasons_Stats.csv\")\n",
    "seasons_stats.drop(['Unnamed: 0', 'blanl', 'blank2'], axis=1, inplace=True)\n",
    "seasons_stats.dropna(inplace=True)\n",
    "seasons_stats.drop(['Year', 'Player'], axis=1, inplace=True)\n",
    "y = seasons_stats['Pos']\n",
    "y = le.fit_transform(y)\n",
    "X = seasons_stats.drop('Pos', axis=1)\n",
    "X['Tm'] = le.fit_transform(X['Tm'])\n",
    "X_train, X_test, y_train, y_test = train_test_split(X, y, test_size=0.2, random_state=43)\n",
    "bst1 = XGBClassifier(n_estimators=2, max_depth=2, learning_rate=1, objective='multi:softmax')\n",
    "bst1.fit(X_train, y_train)\n",
    "preds = bst.predict(X_test)\n",
    "accuracy = accuracy_score(y_test, preds)\n",
    "print(\"Accuracy:\", accuracy)\n"
   ]
  },
  {
   "cell_type": "code",
   "execution_count": null,
   "metadata": {},
   "outputs": [],
   "source": []
  }
 ],
 "metadata": {
  "kernelspec": {
   "display_name": "base",
   "language": "python",
   "name": "python3"
  },
  "language_info": {
   "codemirror_mode": {
    "name": "ipython",
    "version": 3
   },
   "file_extension": ".py",
   "mimetype": "text/x-python",
   "name": "python",
   "nbconvert_exporter": "python",
   "pygments_lexer": "ipython3",
   "version": "3.11.7"
  }
 },
 "nbformat": 4,
 "nbformat_minor": 2
}
