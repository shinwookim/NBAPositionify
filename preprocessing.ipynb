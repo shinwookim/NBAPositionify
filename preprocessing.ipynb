{
 "cells": [
  {
   "cell_type": "code",
   "execution_count": 1,
   "metadata": {},
   "outputs": [],
   "source": [
    "# Import Packages\n",
    "import pandas as pd\n",
    "import numpy as np\n",
    "import matplotlib.pyplot as plt"
   ]
  },
  {
   "cell_type": "code",
   "execution_count": 2,
   "metadata": {},
   "outputs": [
    {
     "name": "stdout",
     "output_type": "stream",
     "text": [
      "Warning: Your Kaggle API key is readable by other users on this system! To fix this, you can run 'chmod 600 /Users/fishofpitt116/.kaggle/kaggle.json'\n",
      "Warning: Your Kaggle API key is readable by other users on this system! To fix this, you can run 'chmod 600 /Users/fishofpitt116/.kaggle/kaggle.json'\n"
     ]
    }
   ],
   "source": [
    "## Get Dataset from Kaggle\n",
    "# Requires the kaggle package to download dataset. Uncomment the line below to install\n",
    "# !pip3 install kaggle\n",
    "import kaggle\n",
    "# Requires kaggle.json (Kaggle API Key) placed in ~/.kaggle\n",
    "kaggle.api.authenticate()\n",
    "kaggle.api.dataset_download_files(\"drgilermo/nba-players-stats\", path=\"./data/\", unzip=True)"
   ]
  },
  {
   "cell_type": "code",
   "execution_count": 3,
   "metadata": {},
   "outputs": [],
   "source": [
    "stats = pd.read_csv(\"./data/Seasons_Stats.csv\")\n",
    "stats = stats.rename(columns={\"Unnamed: 0\" : \"Index\"})\n",
    "stats.drop(['blanl', 'blank2'], axis=1, inplace=True)\n",
    "for index, row in stats.iterrows():\n",
    "    if not pd.isna(row[\"Pos\"]):\n",
    "        positions = row[\"Pos\"].split(\"-\")\n",
    "        # print(positions)\n",
    "        stats.at[index, \"Pos\"] = positions[0]\n",
    "        for i in range(1, len(positions)):\n",
    "            position = positions[i]\n",
    "            new_row = stats.iloc[index].copy()\n",
    "            new_row[\"Pos\"] = position\n",
    "            stats.loc[len(stats)] = new_row\n",
    "stats.dropna(inplace=True)"
   ]
  },
  {
   "cell_type": "code",
   "execution_count": 4,
   "metadata": {},
   "outputs": [],
   "source": [
    "def height_to_inches(height):\n",
    "    feet, inches = map(int, height.split(\"-\"))\n",
    "    return feet * 12 + inches\n",
    "\n",
    "player_data = pd.read_csv(\"./data/player_data.csv\")\n",
    "player_data.dropna(inplace=True)\n",
    "\n",
    "# Apply the function to the DataFrame\n",
    "player_data[\"height_inches\"] = player_data[\"height\"].apply(height_to_inches)\n",
    "\n",
    "# Add height and weight to players\n",
    "stats['height_inches'] = np.nan\n",
    "stats['weight'] = np.nan\n",
    "for index, row in player_data.iterrows():\n",
    "    stats.loc[stats['Player'] == row['name'], 'height_inches'] = row['height_inches']\n",
    "    stats.loc[stats['Player'] == row['name'], 'weight'] = row['weight']\n",
    "\n",
    "# Drop records with missing data\n",
    "stats.dropna(inplace=True)\n",
    "\n",
    "# Also dropping the name of the player...hopefully players aren't assigned positions based on their names\n",
    "# Also dropping the year since we are not predicting the position of a player in a specific year\n",
    "stats.drop(['Year', 'Player'], axis=1, inplace=True)\n",
    "stats.head(5)\n",
    "\n",
    "stats.to_csv(\"season_stats_preprocessed.csv\")"
   ]
  }
 ],
 "metadata": {
  "kernelspec": {
   "display_name": "Python 3",
   "language": "python",
   "name": "python3"
  },
  "language_info": {
   "codemirror_mode": {
    "name": "ipython",
    "version": 3
   },
   "file_extension": ".py",
   "mimetype": "text/x-python",
   "name": "python",
   "nbconvert_exporter": "python",
   "pygments_lexer": "ipython3",
   "version": "3.12.2"
  }
 },
 "nbformat": 4,
 "nbformat_minor": 2
}
